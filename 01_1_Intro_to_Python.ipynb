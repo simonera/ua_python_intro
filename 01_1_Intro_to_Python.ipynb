{
  "nbformat": 4,
  "nbformat_minor": 0,
  "metadata": {
    "colab": {
      "provenance": [],
      "include_colab_link": true
    },
    "kernelspec": {
      "name": "python3",
      "display_name": "Python 3"
    },
    "language_info": {
      "name": "python"
    }
  },
  "cells": [
    {
      "cell_type": "markdown",
      "metadata": {
        "id": "view-in-github",
        "colab_type": "text"
      },
      "source": [
        "<a href=\"https://colab.research.google.com/github/simonera/ua_python_intro/blob/main/01_1_Intro_to_Python.ipynb\" target=\"_parent\"><img src=\"https://colab.research.google.com/assets/colab-badge.svg\" alt=\"Open In Colab\"/></a>"
      ]
    },
    {
      "cell_type": "code",
      "execution_count": null,
      "metadata": {
        "id": "or_6ZeCCs3vp"
      },
      "outputs": [],
      "source": []
    },
    {
      "cell_type": "markdown",
      "source": [
        "# A very short introduction to Python"
      ],
      "metadata": {
        "id": "Jxy7ZP-2s9NC"
      }
    },
    {
      "cell_type": "markdown",
      "source": [
        "**Basic Arithmetic in Python**\n",
        "\n",
        "Integer operators: +, -, \\*, /, //, %.\n",
        "\n",
        "Floating numbers operators: +, -, \\*, /, \\*\\*.\n",
        "\n",
        "Boolean Expressions: True, False.\n",
        "\n",
        "Equality (==): 5 == 5 returns True.\n",
        "\n",
        "Not equal (!=): 5 != 5 returns False.\n",
        "\n",
        "Greater than (>): 5 > 4 returns True.\n",
        "\n",
        "Greater or equal than (>=): 5 >= 5 returns True.\n",
        "\n",
        "Same applies to Less than (<) and Less or equal than (<=)\n",
        "\n",
        "Boolean operators and, or, and not: True and False, True or False, not True\n"
      ],
      "metadata": {
        "id": "ifDR4ctYta0X"
      }
    },
    {
      "cell_type": "markdown",
      "source": [
        "**Flow control examples**\n"
      ],
      "metadata": {
        "id": "MjgqSwI9vP2N"
      }
    },
    {
      "cell_type": "code",
      "source": [
        "# Modify and run the cell as desired\n",
        "# Conditional: if\n",
        "x = 1\n",
        "y = 2\n",
        "z = 3\n",
        "\n",
        "if x == y:\n",
        "     print(\"Hello\")\n",
        "elif x == z:\n",
        "     print(\"Good bye\")\n",
        "else:\n",
        "     print(\"???\")\n",
        "\n",
        "# Remember: SHIFT+ENTER to run a cell of select the \"play button\"."
      ],
      "metadata": {
        "colab": {
          "base_uri": "https://localhost:8080/"
        },
        "id": "2LXupvwXtZ5f",
        "outputId": "19f299a8-ebf0-40d6-8498-489a4b031514"
      },
      "execution_count": null,
      "outputs": [
        {
          "output_type": "stream",
          "name": "stdout",
          "text": [
            "???\n"
          ]
        }
      ]
    },
    {
      "cell_type": "code",
      "source": [
        "# Loop: for\n",
        "\n",
        "print(\"loop 1\")\n",
        "for i in range(5): # default - starts with 0, increases by 1\n",
        "     print(i)\n",
        "\n",
        "print(\"\\nloop 2\")\n",
        "for i in range(10, 2, -2): # arguments: start, end, step size\n",
        "     print(i)\n",
        "\n",
        "# Loop: while\n",
        "i = 1\n",
        "while i < 10:\n",
        "     print('Next i is = ',i)\n",
        "     i = i+1 # Next i value is defined\n"
      ],
      "metadata": {
        "colab": {
          "base_uri": "https://localhost:8080/"
        },
        "id": "ioGYjVmdv6Vv",
        "outputId": "9727731a-be2f-46e1-a6f6-c19eaa1a57a5"
      },
      "execution_count": null,
      "outputs": [
        {
          "output_type": "stream",
          "name": "stdout",
          "text": [
            "loop 1\n",
            "0\n",
            "1\n",
            "2\n",
            "3\n",
            "4\n",
            "\n",
            "loop 2\n",
            "10\n",
            "8\n",
            "6\n",
            "4\n",
            "Next i is =  1\n",
            "Next i is =  2\n",
            "Next i is =  3\n",
            "Next i is =  4\n",
            "Next i is =  5\n",
            "Next i is =  6\n",
            "Next i is =  7\n",
            "Next i is =  8\n",
            "Next i is =  9\n"
          ]
        }
      ]
    },
    {
      "cell_type": "code",
      "source": [
        "# Lists\n",
        "list1 = [1,2,3.0,4]\n",
        "list2 = [1.,2,'3',4]\n",
        "print(list1)\n",
        "print(list2)\n",
        "# Appends list2 at the end of list1. It cannot not be a sum.\n",
        "print(list1+list2)\n"
      ],
      "metadata": {
        "colab": {
          "base_uri": "https://localhost:8080/"
        },
        "id": "kQsMP6eZwzt7",
        "outputId": "fd9b7159-4415-4521-d2ee-aa1a33aea2ad"
      },
      "execution_count": null,
      "outputs": [
        {
          "output_type": "stream",
          "name": "stdout",
          "text": [
            "[1, 2, 3.0, 4]\n",
            "[1.0, 2, '3', 4]\n",
            "[1, 2, 3.0, 4, 1.0, 2, '3', 4]\n"
          ]
        }
      ]
    },
    {
      "cell_type": "code",
      "source": [
        "# Arrays (n-dimensional vectors)\n",
        "import numpy as np\n",
        "\n",
        "# One dimensional arrays examples\n",
        "s1 = np.array([1,2,3,4])      # Array of integer numbers\n",
        "s2 = np.array([1,2,3,4.0])    # Will be converted to floating numbers array, since 4.0 is a float (real)\n",
        "s3 = np.array([1,2,3,'4'])    # Will be converted to a character array, since '4' is a character\n",
        "s4 = np.arange(0,5,0.5)       # An array of 0.5 spaced points between 0 and 5, but not including end point 5\n",
        "s5 = np.linspace(0,5,20)      # Linear space: inserts 20 points between 0 and 5, includes both end points.\n",
        "\n",
        "# Adding 2 numeric array makes sense. Since s2 is a float array, the sum s1 + s2 is a float\n",
        "# or we can scale numeric arrays by multiplying or dividing them by a factor.\n",
        "\n",
        "print('s1 is ', s1)\n",
        "print('s2 is ', s2)\n",
        "print('s3 is ', s3)\n",
        "print('s4 is ', s4)\n",
        "print('s1 + s2 = ', s1 + s2)\n",
        "print('5*s2 = ', 5*s2)\n",
        "\n",
        "# We stopped here during the live session"
      ],
      "metadata": {
        "colab": {
          "base_uri": "https://localhost:8080/"
        },
        "id": "ApSYGo0W3_UF",
        "outputId": "4754233b-1e84-40a2-b8ae-5e7fafab95de"
      },
      "execution_count": null,
      "outputs": [
        {
          "output_type": "stream",
          "name": "stdout",
          "text": [
            "s1 is  [1 2 3 4]\n",
            "s2 is  [1. 2. 3. 4.]\n",
            "s3 is  ['1' '2' '3' '4']\n",
            "s4 is  [0.  0.5 1.  1.5 2.  2.5 3.  3.5 4.  4.5]\n",
            "s1 + s2 =  [2. 4. 6. 8.]\n",
            "5*s2 =  [ 5. 10. 15. 20.]\n"
          ]
        }
      ]
    },
    {
      "cell_type": "code",
      "source": [
        "# How to access the elements of an array\n",
        "print('s1 = ', s1)\n",
        "print('s1[2] = ', s1[2])      # Obtain the 3rd element of s1... Python starts counting from 0\n",
        "print('s1[1:3] = ', s1[1:3])    # Obtain the second upto before the fourth elements\n",
        "\n",
        "\n",
        "# Two and three dimensional arrays\n",
        "x2 = np.array([[0, 1], [2, 3]])\n",
        "y3 = np.array([[4, 5, 6], [7, 8, 9], [10, 11, 12]])\n",
        "\n",
        "print(' x2 = ',x2,'\\n y3 = ', y3)\n",
        "#print('x2[[:,1]]', x2[[:,1]], ' prints the second column of x2')"
      ],
      "metadata": {
        "colab": {
          "base_uri": "https://localhost:8080/"
        },
        "id": "N5YDg9BY6DGq",
        "outputId": "4d162bcc-46ff-49a1-f5ff-796141f120b3"
      },
      "execution_count": null,
      "outputs": [
        {
          "output_type": "stream",
          "name": "stdout",
          "text": [
            "s1 =  [1 2 3 4]\n",
            "s1[2] =  3\n",
            "s1[1:3] =  [2 3]\n",
            " x2 =  [[0 1]\n",
            " [2 3]] \n",
            " y3 =  [[ 4  5  6]\n",
            " [ 7  8  9]\n",
            " [10 11 12]]\n"
          ]
        }
      ]
    },
    {
      "cell_type": "code",
      "source": [
        "# Selecting a row or column of an array\n",
        "# Remember, Python starts counting from 0.\n",
        "print(' Second row of x2: ', x2[1,:])  # Selects the second row of x2, (here ':'  means 'all columns')\n",
        "print(' First column of y3: ', y3[:,0]) # Selects the first column of y3 (here ':' means 'all rows')\n",
        "print('Last element of second row of y3: ', y3[1,2]) # Selects a specific element on a two dimensional array."
      ],
      "metadata": {
        "colab": {
          "base_uri": "https://localhost:8080/"
        },
        "id": "Ggbiuxj46kn1",
        "outputId": "8b1345eb-c802-4e07-f96d-3b522a2fb73b"
      },
      "execution_count": null,
      "outputs": [
        {
          "output_type": "stream",
          "name": "stdout",
          "text": [
            " Second row of x2:  [2 3]\n",
            " First column of y3:  [ 4  7 10]\n",
            "Last element of second row of y3:  9\n"
          ]
        }
      ]
    },
    {
      "cell_type": "code",
      "source": [
        "# Some basic array operations (Only if elements are numbers)\n",
        "import numpy as np\n",
        "\n",
        "# Two and three dimensional arrays\n",
        "x = np.array([[1, 2], [3, 4]])\n",
        "y = np.array([[5, 6], [7, 8]])\n",
        "c = 2\n",
        "\n",
        "# Print specified values\n",
        "print('x = ', x)\n",
        "print('y = ', y)\n",
        "print('c =', c)\n",
        "\n",
        "\n",
        "print('Sum x+y =', x+y)          # sum\n",
        "print(' Sum of x + c =', x+c)    # sum a constant c\n",
        "print('Division of x/y =', x/y)  # division\n",
        "print(' Multiply c*x =', c*x)    # multiply by a constant c\n",
        "print('Square of x =', x**2)     # Square of a number\n",
        "print('Array multiplication x @ y = ', x@y)   # Array multiplication - is a standard matrix multiplication\n",
        "\n",
        "print('Square root of x =', np.sqrt(x))            # Computes the square root of all array elements\n",
        "print('Exponential of array x = ', np.exp(x))      # Computes the expo0nential of the array\n",
        "print('Log of x = ', np.log(x))                    # Computes the natural logarithm of the array\n",
        "print('Sum of elements of x = ', np.sum(x))        # Computes the sum of the elements of the array\n",
        "print('Computes the arithmetic mean of elements of x = ', np.mean(x))   # Computes the arithmetic mean of the array\n",
        "\n"
      ],
      "metadata": {
        "colab": {
          "base_uri": "https://localhost:8080/"
        },
        "id": "21wU8OeN6nW9",
        "outputId": "19e168c8-9d08-476d-ca39-1b2f5344e454"
      },
      "execution_count": null,
      "outputs": [
        {
          "output_type": "stream",
          "name": "stdout",
          "text": [
            "x =  [[1 2]\n",
            " [3 4]]\n",
            "y =  [[5 6]\n",
            " [7 8]]\n",
            "c = 2\n",
            "Sum x+y = [[ 6  8]\n",
            " [10 12]]\n",
            " Sum of x + c = [[3 4]\n",
            " [5 6]]\n",
            "Division of x/y = [[0.2        0.33333333]\n",
            " [0.42857143 0.5       ]]\n",
            " Multiply c*x = [[2 4]\n",
            " [6 8]]\n",
            "Square of x = [[ 1  4]\n",
            " [ 9 16]]\n",
            "Array multiplication x @ y =  [[19 22]\n",
            " [43 50]]\n",
            "Square root of x = [[1.         1.41421356]\n",
            " [1.73205081 2.        ]]\n",
            "Exponential of array x =  [[ 2.71828183  7.3890561 ]\n",
            " [20.08553692 54.59815003]]\n",
            "Log of x =  [[0.         0.69314718]\n",
            " [1.09861229 1.38629436]]\n",
            "Sum of elements of x =  10\n",
            "Computes the arithmetic mean of elements of x =  2.5\n"
          ]
        }
      ]
    },
    {
      "cell_type": "code",
      "source": [
        "# Plotting functions example\n",
        "\n",
        "# Load the required Python libraries\n",
        "import numpy as np              # Numpy is the Numeric/Mathematics Python library\n",
        "import matplotlib.pyplot as plt # Matplotlib is the graphics library\n",
        "\n",
        "# Variable and function definitions\n",
        "x = np.linspace(-np.pi,np.pi,100)  # A 100 equally spaced points between  -pi  and  pi (pi=3.1415...)\n",
        "y = np.sin(x)      # y will be a 100 points array automatically defined by x\n",
        "\n",
        "# Define the functions as follows...elements of a Taylor Series\n",
        "y1 = x\n",
        "y3 = x**3/(3*2)\n",
        "y5 = x**5/(5*4*3*2)\n",
        "sT = y1 - y3 + y5 # Truncated Taylor series of sin(x) to 5th order.\n",
        "\n",
        "# Create plots\n",
        "plt.figure(figsize=(8, 5)) # A plot width=8, height=5\n",
        "plt.subplot(111)\n",
        "plt.xlabel(\"X label\")\n",
        "plt.ylabel(\"Y label\")\n",
        "plt.title(\"Title\")\n",
        "\n",
        "# Plot the defined functions\n",
        "plt.plot(x,y, label=\"sin(x)\")\n",
        "plt.plot(x,y1, label='x')\n",
        "plt.plot(x,sT, label='5th order Taylor Series')\n",
        "\n",
        "# Add a grid for easier visualization\n",
        "plt.grid(True)\n",
        "\n",
        "# Fix Y-axis limits.\n",
        "plt.ylim(-2, 2)\n",
        "\n",
        "# Location of functions labels\n",
        "plt.legend(bbox_to_anchor=(1,1), loc=\"upper left\")\n",
        "\n",
        "plt.show()\n",
        "#plt.savefig('plot.png')  # If saving a PNG image to a file is desired.\n"
      ],
      "metadata": {
        "colab": {
          "base_uri": "https://localhost:8080/",
          "height": 487
        },
        "id": "IXTrruTyAQ-W",
        "outputId": "f0235090-288d-4d8a-ac66-6ab9c5d42a4c"
      },
      "execution_count": null,
      "outputs": [
        {
          "output_type": "display_data",
          "data": {
            "text/plain": [
              "<Figure size 800x500 with 1 Axes>"
            ],
            "image/png": "[encoded data removed]"
          },
          "metadata": {}
        }
      ]
    },
    {
      "cell_type": "markdown",
      "source": [
        "**Example 1.**\n",
        "The following given program computes the area of a rectangle."
      ],
      "metadata": {
        "id": "on9h-rT1YkSa"
      }
    },
    {
      "cell_type": "code",
      "source": [
        "\n",
        "#\n",
        "# The following area function computes the area of a rectangle (length times width)\n",
        "def area(x, y):\n",
        "    return x*y\n",
        "\n",
        "print(\"Please input the rectangle length and width \", end=\"\")\n",
        "l = float(input())\n",
        "w = float(input())\n",
        "a = area(l, w)\n",
        "# Print the computed area in free format.\n",
        "print(\"\\nArea = \", a)\n",
        "# Print the computed area with 2 decimals.\n",
        "print(\"\\nArea = {:.2f}\".format(a))\n",
        "\n",
        "# Note: The Numpy library has the π number defined\n",
        "\n",
        "# Example\n",
        "import numpy as np\n",
        "\n",
        "# Prints the value of pi.\n",
        "print(np.pi)\n",
        "# Prints the computed square root of pi\n",
        "np.sqrt(np.pi)\n",
        "# Computes the value of Sin(√π)\n",
        "np.sin(np.sqrt(np.pi))\n"
      ],
      "metadata": {
        "id": "NQCn4KM7XGrT"
      },
      "execution_count": null,
      "outputs": []
    },
    {
      "cell_type": "markdown",
      "source": [
        "**To do Examples**. Using the above example, make a copy of the Area program code, copy it into a new cell and modify it to compute the following areas and volumes:\n",
        "\n",
        "*   Area of a: circle and ellipse\n",
        "*   Volume of a: sphere and a circular cylinder\n",
        "\n"
      ],
      "metadata": {
        "id": "t4Nt3GbQabwH"
      }
    }
  ]
}