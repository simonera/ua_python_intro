{
  "nbformat": 4,
  "nbformat_minor": 0,
  "metadata": {
    "colab": {
      "provenance": [],
      "authorship_tag": "ABX9TyMvMwq+ClqCye8TqJBD4ctC",
      "include_colab_link": true
    },
    "kernelspec": {
      "name": "python3",
      "display_name": "Python 3"
    },
    "language_info": {
      "name": "python"
    }
  },
  "cells": [
    {
      "cell_type": "markdown",
      "metadata": {
        "id": "view-in-github",
        "colab_type": "text"
      },
      "source": [
        "<a href=\"https://colab.research.google.com/github/simonera/ua_python_intro/blob/main/01_intro_to_jupyter_notebooks.ipynb\" target=\"_parent\"><img src=\"https://colab.research.google.com/assets/colab-badge.svg\" alt=\"Open In Colab\"/></a>"
      ]
    },
    {
      "cell_type": "code",
      "execution_count": null,
      "metadata": {
        "colab": {
          "base_uri": "https://localhost:8080/"
        },
        "id": "QESX1b80Vz0g",
        "outputId": "225a2487-811a-4a10-cd0f-56042a2064e8"
      },
      "outputs": [
        {
          "output_type": "stream",
          "name": "stdout",
          "text": [
            "Hello world!\n"
          ]
        }
      ],
      "source": [
        "print(\"Hello world!\")\n",
        "# Press the play button or press \"Shift + Enter\""
      ]
    },
    {
      "cell_type": "code",
      "source": [],
      "metadata": {
        "id": "wR3NcSsMWTos"
      },
      "execution_count": null,
      "outputs": []
    },
    {
      "cell_type": "markdown",
      "source": [
        "# Markdown Language\n",
        "## Subtitle\n",
        "### Another level\n",
        "- Item 1\n",
        "- Item 2\n",
        "1. Item 1\n",
        "1. Item 2\n",
        "1. Item 3\n",
        "\n",
        "**Bolt text**.\n",
        "\n",
        "_Italized_.\n",
        "\n",
        "Let's create a table:\n",
        "\n",
        "| Item | Description | Another Column |\n",
        "| :--: | :-- | --: |\n",
        "| Apple | Fruit | Yummy |\n",
        "\n",
        "\n",
        "Let's add a [link](https://www.simonerambotti.com/)."
      ],
      "metadata": {
        "id": "M4BVhbSrW3bB"
      }
    }
  ]
}
